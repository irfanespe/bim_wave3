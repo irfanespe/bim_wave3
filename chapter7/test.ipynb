{
 "cells": [
  {
   "cell_type": "markdown",
   "metadata": {},
   "source": [
    "IF -> untuk mengarahkan code ke kondisi tertentu (flow control)\n",
    "\n",
    "<!-- template -->\n",
    "if (condition 1 .....) and (condition 2 ....) and (condition 3 .....) : \\\n",
    "    aksi 1 \\\n",
    "else : \\\n",
    "    aksi 2 \\"
   ]
  },
  {
   "cell_type": "markdown",
   "metadata": {},
   "source": [
    "condition -> logical expression\n",
    "\n",
    "x == 5 -> true / false"
   ]
  },
  {
   "cell_type": "code",
   "execution_count": 3,
   "metadata": {},
   "outputs": [],
   "source": [
    "# assignment\n",
    "x = 5"
   ]
  },
  {
   "cell_type": "code",
   "execution_count": 5,
   "metadata": {},
   "outputs": [
    {
     "data": {
      "text/plain": [
       "False"
      ]
     },
     "execution_count": 5,
     "metadata": {},
     "output_type": "execute_result"
    }
   ],
   "source": [
    "# assignment\n",
    "x == 7 # logic sama dengan"
   ]
  },
  {
   "cell_type": "code",
   "execution_count": 7,
   "metadata": {},
   "outputs": [
    {
     "data": {
      "text/plain": [
       "True"
      ]
     },
     "execution_count": 7,
     "metadata": {},
     "output_type": "execute_result"
    }
   ],
   "source": [
    "x >= 3 # lebih dari sama dengan"
   ]
  },
  {
   "cell_type": "markdown",
   "metadata": {},
   "source": [
    "kita mau mengecek, nilai sisa itu lulus apa engga. Untuk lulus minimal nilainya itu 60.\n",
    "kalau lulus, tulis `lulus`, klo tidak lulus tulis `remidial`"
   ]
  },
  {
   "cell_type": "code",
   "execution_count": 15,
   "metadata": {},
   "outputs": [],
   "source": [
    "nilai = 70"
   ]
  },
  {
   "cell_type": "code",
   "execution_count": 16,
   "metadata": {},
   "outputs": [
    {
     "name": "stdout",
     "output_type": "stream",
     "text": [
      "remidial\n"
     ]
    }
   ],
   "source": [
    "if (nilai >= 80) :\n",
    "    print('lulus') #tulis lulus\n",
    "else :\n",
    "    # jika nilai < 80\n",
    "    print('remidial') "
   ]
  },
  {
   "cell_type": "markdown",
   "metadata": {},
   "source": [
    "And -> jika semua kondisi terpenuhi maka true\n",
    "\n",
    "x = 90\n",
    "\n",
    "if (x >=10) and (x <40) : -> false"
   ]
  },
  {
   "cell_type": "markdown",
   "metadata": {},
   "source": [
    "dosen mau mengelompokkan nilai mahasiswa , jika nilai < 40 maka nilai mhs C. Jika nilai lebih dari sama dengan 40 dan kurang dari 70 maka nilai B. Jika nilai lebih dari sama dengan 70 maka nilai A"
   ]
  },
  {
   "cell_type": "code",
   "execution_count": 25,
   "metadata": {},
   "outputs": [],
   "source": [
    "nilai = 30"
   ]
  },
  {
   "cell_type": "code",
   "execution_count": 26,
   "metadata": {},
   "outputs": [
    {
     "name": "stdout",
     "output_type": "stream",
     "text": [
      "C\n"
     ]
    }
   ],
   "source": [
    "if (nilai < 40):\n",
    "    print('C')\n",
    "elif (nilai >= 40) and (nilai < 70):\n",
    "    print('B')\n",
    "else :\n",
    "    print('A')"
   ]
  },
  {
   "cell_type": "code",
   "execution_count": 28,
   "metadata": {},
   "outputs": [
    {
     "data": {
      "text/plain": [
       "900"
      ]
     },
     "execution_count": 28,
     "metadata": {},
     "output_type": "execute_result"
    }
   ],
   "source": [
    "nilai**2 #kuadrat"
   ]
  },
  {
   "cell_type": "markdown",
   "metadata": {},
   "source": [
    "### Perulangan"
   ]
  },
  {
   "cell_type": "markdown",
   "metadata": {},
   "source": [
    "Perulangan -> untuk mengulangi sebuah operasi pada kondisi tertentu\n",
    "\n",
    "template\n",
    "\n",
    "for variable in range(jumlah_perulangan):\n",
    "    aksi\n",
    "\n",
    "for x in range(10): -> x akan berjalan dari 0 - 9\n",
    "    print(x)\n",
    "\n",
    "yang dilakukan komputer\n",
    "x = 0 -> aksi -> print(x) -> output `0`\n",
    "\n",
    "x = 1 -> aksi -> print(x) -> output `1`\n",
    "\n",
    "x = 9 -> aksi -> print(x) -> output `9`"
   ]
  },
  {
   "cell_type": "code",
   "execution_count": 35,
   "metadata": {},
   "outputs": [
    {
     "name": "stdout",
     "output_type": "stream",
     "text": [
      "nol.halo\n",
      "satu.halo\n",
      ".halo\n",
      ".halo\n",
      ".halo\n"
     ]
    }
   ],
   "source": [
    "for x in range(5): # ulangi 5x\n",
    "    y = '' \n",
    "\n",
    "    if (x == 0):\n",
    "        y = 'nol'\n",
    "    elif (x==1):\n",
    "        y = 'satu'\n",
    "    \n",
    "    print('{}.halo'.format(y))"
   ]
  },
  {
   "cell_type": "code",
   "execution_count": 33,
   "metadata": {},
   "outputs": [
    {
     "name": "stdout",
     "output_type": "stream",
     "text": [
      "0.halo\n",
      "1.halo\n",
      "2.halo\n",
      "4.halo\n"
     ]
    }
   ],
   "source": [
    "for x in range(5): # ulangi 5x\n",
    "    if (x == 3):\n",
    "        None\n",
    "    else:\n",
    "        print('{}.halo'.format(x))"
   ]
  },
  {
   "cell_type": "markdown",
   "metadata": {},
   "source": [
    "buat sebuah perulangan untuk menampilkan angka kelipatan 2. mulai dari 2,4,6,8 ... 32\n",
    "2 \\\n",
    "4 \\\n",
    "6 \\\n",
    "8 \n",
    "\n",
    "**hint** : dalam perulangan operasikan indeks variabel x 2"
   ]
  },
  {
   "cell_type": "code",
   "execution_count": 37,
   "metadata": {},
   "outputs": [
    {
     "name": "stdout",
     "output_type": "stream",
     "text": [
      "2\n",
      "4\n",
      "6\n",
      "8\n",
      "10\n",
      "12\n",
      "14\n",
      "16\n",
      "18\n",
      "20\n",
      "22\n",
      "24\n",
      "26\n",
      "28\n",
      "30\n",
      "32\n"
     ]
    }
   ],
   "source": [
    "for x in range(2,34,2): # template (nilai_awal, nilai_akhir, penambahan)\n",
    "    print(x)"
   ]
  },
  {
   "cell_type": "code",
   "execution_count": 45,
   "metadata": {},
   "outputs": [
    {
     "name": "stdout",
     "output_type": "stream",
     "text": [
      "2\n",
      "4\n",
      "6\n",
      "8\n",
      "10\n",
      "12\n",
      "14\n",
      "16\n",
      "18\n",
      "20\n",
      "22\n",
      "24\n",
      "26\n",
      "28\n",
      "30\n",
      "32\n"
     ]
    }
   ],
   "source": [
    "y = 0\n",
    "\n",
    "for x in range(1,17): # template (nilai_awal, nilai_akhir, penambahan)\n",
    "    \n",
    "    y+=2 \n",
    "    print(y)"
   ]
  },
  {
   "cell_type": "markdown",
   "metadata": {},
   "source": [
    "### Data Structure"
   ]
  },
  {
   "cell_type": "markdown",
   "metadata": {},
   "source": [
    "- list \\\n",
    "  kumpulan value dengan [] . Contoh list_nama_siswa = ['ira', 'ai', 'asep']. List ini valuenya boleh tidak unik. punya index\n",
    "- set \\\n",
    "  kumpulan value dengan {} . Contoh list_nama_siswa = {'ira', 'ai', 'asep'}. set ini valuenya pasti unik. tidak punya index\n",
    "- tuple \\\n",
    "  kumpulan value dengan () . Contoh tuple_nama_siswa = ('ira', 'ai', 'asep'). tuple ini valuenya boleh tidak unik. punya index, tapi index nya ga bisa berubah\n",
    "- dictionary -> bahas lain waktu"
   ]
  },
  {
   "cell_type": "code",
   "execution_count": 49,
   "metadata": {},
   "outputs": [],
   "source": [
    "list_nama_siswa = ['ira', 'ai', 'asep', 'ira']"
   ]
  },
  {
   "cell_type": "code",
   "execution_count": 52,
   "metadata": {},
   "outputs": [
    {
     "data": {
      "text/plain": [
       "['ira', 'ai', 'asep', 'ira']"
      ]
     },
     "execution_count": 52,
     "metadata": {},
     "output_type": "execute_result"
    }
   ],
   "source": [
    "list_nama_siswa"
   ]
  },
  {
   "cell_type": "code",
   "execution_count": 64,
   "metadata": {},
   "outputs": [],
   "source": [
    "# untuk memanggil salah 1 value di list\n",
    "# template nama_list[index]\n",
    "list_nama_siswa[0] = 'ani'"
   ]
  },
  {
   "cell_type": "code",
   "execution_count": 65,
   "metadata": {},
   "outputs": [
    {
     "data": {
      "text/plain": [
       "['ani', 'ai', 'asep', 'ira']"
      ]
     },
     "execution_count": 65,
     "metadata": {},
     "output_type": "execute_result"
    }
   ],
   "source": [
    "list_nama_siswa"
   ]
  },
  {
   "cell_type": "code",
   "execution_count": 53,
   "metadata": {},
   "outputs": [],
   "source": [
    "set_nama_siswa = {'ira', 'ai', 'asep', 'ira'}"
   ]
  },
  {
   "cell_type": "code",
   "execution_count": 54,
   "metadata": {},
   "outputs": [
    {
     "data": {
      "text/plain": [
       "{'ai', 'asep', 'ira'}"
      ]
     },
     "execution_count": 54,
     "metadata": {},
     "output_type": "execute_result"
    }
   ],
   "source": [
    "set_nama_siswa"
   ]
  },
  {
   "cell_type": "code",
   "execution_count": 58,
   "metadata": {},
   "outputs": [
    {
     "data": {
      "text/plain": [
       "['asep', 'ai', 'ira']"
      ]
     },
     "execution_count": 58,
     "metadata": {},
     "output_type": "execute_result"
    }
   ],
   "source": [
    "list(set(list_nama_siswa))"
   ]
  },
  {
   "cell_type": "code",
   "execution_count": 59,
   "metadata": {},
   "outputs": [],
   "source": [
    "tuple_nama_siswa = ('ira', 'ai', 'asep', 'ira')"
   ]
  },
  {
   "cell_type": "code",
   "execution_count": 67,
   "metadata": {},
   "outputs": [
    {
     "ename": "TypeError",
     "evalue": "'tuple' object does not support item assignment",
     "output_type": "error",
     "traceback": [
      "\u001b[1;31m---------------------------------------------------------------------------\u001b[0m",
      "\u001b[1;31mTypeError\u001b[0m                                 Traceback (most recent call last)",
      "Cell \u001b[1;32mIn[67], line 1\u001b[0m\n\u001b[1;32m----> 1\u001b[0m \u001b[43mtuple_nama_siswa\u001b[49m\u001b[43m[\u001b[49m\u001b[38;5;241;43m0\u001b[39;49m\u001b[43m]\u001b[49m \u001b[38;5;241m=\u001b[39m \u001b[38;5;124m'\u001b[39m\u001b[38;5;124mani\u001b[39m\u001b[38;5;124m'\u001b[39m\n",
      "\u001b[1;31mTypeError\u001b[0m: 'tuple' object does not support item assignment"
     ]
    }
   ],
   "source": [
    "tuple_nama_siswa[0] = 'ani'"
   ]
  },
  {
   "cell_type": "code",
   "execution_count": 69,
   "metadata": {},
   "outputs": [],
   "source": [
    "list(tuple_nama_siswa)[0] = 'ani'"
   ]
  },
  {
   "cell_type": "code",
   "execution_count": 70,
   "metadata": {},
   "outputs": [
    {
     "data": {
      "text/plain": [
       "('ira', 'ai', 'asep', 'ira')"
      ]
     },
     "execution_count": 70,
     "metadata": {},
     "output_type": "execute_result"
    }
   ],
   "source": [
    "tuple_nama_siswa"
   ]
  },
  {
   "cell_type": "code",
   "execution_count": 72,
   "metadata": {},
   "outputs": [
    {
     "name": "stdout",
     "output_type": "stream",
     "text": [
      "nama siswa : ani\n",
      "nama siswa : ai\n",
      "nama siswa : asep\n",
      "nama siswa : ira\n"
     ]
    }
   ],
   "source": [
    "# template mengoperasikan tiap value di list\n",
    "# for nama_var_baru in list:\n",
    "#     aksi per nama_var_baru\n",
    "\n",
    "for nama in list_nama_siswa:\n",
    "    print('nama siswa : {}'.format(nama))"
   ]
  },
  {
   "cell_type": "code",
   "execution_count": 75,
   "metadata": {},
   "outputs": [
    {
     "name": "stdout",
     "output_type": "stream",
     "text": [
      "4\n",
      "25\n",
      "100\n"
     ]
    }
   ],
   "source": [
    "list_angka = [2, 5, 10]\n",
    "\n",
    "for x in list_angka:\n",
    "    y = x**2\n",
    "\n",
    "    print(y)"
   ]
  },
  {
   "cell_type": "code",
   "execution_count": 76,
   "metadata": {},
   "outputs": [
    {
     "name": "stdout",
     "output_type": "stream",
     "text": [
      "5\n"
     ]
    }
   ],
   "source": [
    "nama = 'astri'\n",
    "print(len(nama))"
   ]
  },
  {
   "cell_type": "code",
   "execution_count": null,
   "metadata": {},
   "outputs": [],
   "source": []
  }
 ],
 "metadata": {
  "kernelspec": {
   "display_name": "Python 3",
   "language": "python",
   "name": "python3"
  },
  "language_info": {
   "codemirror_mode": {
    "name": "ipython",
    "version": 3
   },
   "file_extension": ".py",
   "mimetype": "text/x-python",
   "name": "python",
   "nbconvert_exporter": "python",
   "pygments_lexer": "ipython3",
   "version": "3.8.8"
  }
 },
 "nbformat": 4,
 "nbformat_minor": 2
}
