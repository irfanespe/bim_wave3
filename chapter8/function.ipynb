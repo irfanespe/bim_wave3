{
 "cells": [
  {
   "cell_type": "markdown",
   "metadata": {},
   "source": [
    "### Fungsi\n",
    "\n",
    "sebuah modul / bagian dalam code yang memungkinkan kita melakukan proses yang sama berulang2 tapi dengan lebih singkat."
   ]
  },
  {
   "cell_type": "code",
   "execution_count": 1,
   "metadata": {},
   "outputs": [],
   "source": [
    "x = 5\n",
    "y = 6"
   ]
  },
  {
   "cell_type": "code",
   "execution_count": 3,
   "metadata": {},
   "outputs": [
    {
     "name": "stdout",
     "output_type": "stream",
     "text": [
      "11\n"
     ]
    }
   ],
   "source": [
    "tambah = x + y\n",
    "print(tambah)"
   ]
  },
  {
   "cell_type": "code",
   "execution_count": 4,
   "metadata": {},
   "outputs": [
    {
     "name": "stdout",
     "output_type": "stream",
     "text": [
      "3\n"
     ]
    }
   ],
   "source": [
    "x = 1\n",
    "y = 2\n",
    "\n",
    "tambah = x + y\n",
    "print(tambah)"
   ]
  },
  {
   "cell_type": "code",
   "execution_count": 5,
   "metadata": {},
   "outputs": [
    {
     "name": "stdout",
     "output_type": "stream",
     "text": [
      "kurang dari 10\n"
     ]
    }
   ],
   "source": [
    "# saya ingin menjumlahkan x dan y, lalu mengelompokkan hasil nya lebih besar dari 10 atau lebih kecil sama dengan 10\n",
    "x = 1\n",
    "y = 2\n",
    "\n",
    "tambah = x + y\n",
    "if (tambah > 10):\n",
    "    print(\"lebih dari 10\")\n",
    "else :\n",
    "    print(\"kurang dari 10\")"
   ]
  },
  {
   "cell_type": "code",
   "execution_count": 30,
   "metadata": {},
   "outputs": [],
   "source": [
    "x = 7\n",
    "y = 10\n",
    "\n",
    "# proses dibuat 1 kesatuan dengan diubah menjadi fungsi, namanya proses_tambah\n",
    "# template definisi fungsi\n",
    "# def nama_fungsi(input1, input2, ....):\n",
    "#   proses1\n",
    "#   proses2\n",
    "# return output\n",
    "\n",
    "def proses_tambah(in1, in2): \n",
    "    hasil_output = in1 + in2\n",
    "\n",
    "    if (hasil_output > 10):\n",
    "        print(\"lebih dari 10\")\n",
    "    else :\n",
    "        print(\"kurang dari 10\")\n",
    "    \n",
    "    return hasil_output"
   ]
  },
  {
   "cell_type": "code",
   "execution_count": 31,
   "metadata": {},
   "outputs": [
    {
     "name": "stdout",
     "output_type": "stream",
     "text": [
      "lebih dari 10\n"
     ]
    }
   ],
   "source": [
    "# template cara pake fungsi\n",
    "# var_output = nama_fungsi(input1, input2, ..)\n",
    "\n",
    "z = proses_tambah(x,y)"
   ]
  },
  {
   "cell_type": "code",
   "execution_count": 32,
   "metadata": {},
   "outputs": [
    {
     "name": "stdout",
     "output_type": "stream",
     "text": [
      "17\n"
     ]
    }
   ],
   "source": [
    "print(z)"
   ]
  },
  {
   "cell_type": "code",
   "execution_count": 33,
   "metadata": {},
   "outputs": [
    {
     "name": "stdout",
     "output_type": "stream",
     "text": [
      "lebih dari 10\n"
     ]
    }
   ],
   "source": [
    "z = proses_tambah(100,5)"
   ]
  },
  {
   "cell_type": "code",
   "execution_count": 34,
   "metadata": {},
   "outputs": [
    {
     "data": {
      "text/plain": [
       "105"
      ]
     },
     "execution_count": 34,
     "metadata": {},
     "output_type": "execute_result"
    }
   ],
   "source": [
    "z"
   ]
  },
  {
   "cell_type": "markdown",
   "metadata": {},
   "source": [
    "#### Bedakan variable global dengan parameter yang ada dalam fungsi"
   ]
  },
  {
   "cell_type": "code",
   "execution_count": 39,
   "metadata": {},
   "outputs": [],
   "source": [
    "# saya mau membuat kalkulator sederhana\n",
    "# kalkulatornya itu hanya menerima 2 angka -> (input1, input2)\n",
    "# proses yang dimiliki hanya tambah, kurang, dan bagi (sesuai keinginan user) -> proses\n",
    "# buat code untuk calculator sederhana\n",
    "\n",
    "input1 = 10\n",
    "input2 = 5\n",
    "proses = 'bagi'\n",
    "\n",
    "def kalkulator(process, in1, in2):\n",
    "    # fungsi : untuk melakukan proses antara 2 angka sesuai dengan proses yg diinput. \n",
    "    # input :\n",
    "        # process(string) : proses yang ingin dilakukan, tambah, kurang dan bagi\n",
    "        # in1(int/float) : angka pertama yg ingin dioperasikan\n",
    "        # in2(int/float) : angka kedua yg ingin dioperasikan\n",
    "    # output :\n",
    "        # z(int/float) : hasil operasi dari in1 dan in2\n",
    "        \n",
    "    if (process == \"tambah\"):\n",
    "        z = in1 + in2\n",
    "    elif(process == \"kurang\"):\n",
    "        z = in1 - in2\n",
    "    elif(process == \"bagi\"):\n",
    "        z=in1 / in2\n",
    "    else :\n",
    "        z=None\n",
    "\n",
    "    return z"
   ]
  },
  {
   "cell_type": "code",
   "execution_count": 43,
   "metadata": {},
   "outputs": [
    {
     "data": {
      "text/plain": [
       "110"
      ]
     },
     "execution_count": 43,
     "metadata": {},
     "output_type": "execute_result"
    }
   ],
   "source": [
    "# cara memanggil fungsi\n",
    "input1 = 70\n",
    "input2 = 40\n",
    "proses = 'tambah'\n",
    "\n",
    "output_kalkulator = kalkulator(proses, input1, input2)\n",
    "output_kalkulator"
   ]
  },
  {
   "cell_type": "code",
   "execution_count": 41,
   "metadata": {},
   "outputs": [],
   "source": [
    "output_kalkulator"
   ]
  },
  {
   "cell_type": "markdown",
   "metadata": {},
   "source": [
    "## Exercise\n",
    "Saya ingin membuat fungsi untuk membandingkan 2 angka. Dari 2 angka yang saya bandingkan, saya ingin tau mana angka yang lebih besar.\n",
    "contoh :\n",
    "angka1 = 5\n",
    "angka2 = 10\n",
    "\n",
    "output dari fungsi -> 10"
   ]
  },
  {
   "cell_type": "markdown",
   "metadata": {},
   "source": [
    "## Exercise\n",
    "Saya ingin membuat fungsi untuk menghitung luas segitiga. \\\n",
    "inputan dari user itu alas dan tinggi segitiga. \\\n",
    "rumus luas segitiga adalah 0.5 x alas x tinggi. \\\n",
    "buat fungsi menghitung luas segitiga"
   ]
  },
  {
   "cell_type": "markdown",
   "metadata": {},
   "source": [
    "def hitung_luas_segitiga(alas, tinggi):\n",
    "    luas = 0.5 * alas * tinggi\n",
    "    return luas\n",
    "\n",
    "alas = 10\n",
    "tinggi = 20\n",
    "luas = hitung_luas_segitiga(alas)"
   ]
  },
  {
   "cell_type": "code",
   "execution_count": 44,
   "metadata": {},
   "outputs": [
    {
     "ename": "TypeError",
     "evalue": "hitung_luas_segitiga() missing 1 required positional argument: 'tinggi'",
     "output_type": "error",
     "traceback": [
      "\u001b[1;31m---------------------------------------------------------------------------\u001b[0m",
      "\u001b[1;31mTypeError\u001b[0m                                 Traceback (most recent call last)",
      "Cell \u001b[1;32mIn[44], line 7\u001b[0m\n\u001b[0;32m      5\u001b[0m alas \u001b[38;5;241m=\u001b[39m \u001b[38;5;241m10\u001b[39m\n\u001b[0;32m      6\u001b[0m tinggi \u001b[38;5;241m=\u001b[39m \u001b[38;5;241m20\u001b[39m\n\u001b[1;32m----> 7\u001b[0m luas \u001b[38;5;241m=\u001b[39m \u001b[43mhitung_luas_segitiga\u001b[49m\u001b[43m(\u001b[49m\u001b[43malas\u001b[49m\u001b[43m)\u001b[49m\n",
      "\u001b[1;31mTypeError\u001b[0m: hitung_luas_segitiga() missing 1 required positional argument: 'tinggi'"
     ]
    }
   ],
   "source": [
    "def hitung_luas_segitiga(alas, tinggi):\n",
    "    luas = 0.5 * alas * tinggi\n",
    "    return luas\n",
    "\n",
    "alas = 10\n",
    "tinggi = 20\n",
    "luas = hitung_luas_segitiga(alas, tinggi)"
   ]
  },
  {
   "cell_type": "code",
   "execution_count": 46,
   "metadata": {},
   "outputs": [],
   "source": [
    "def print_halo():\n",
    "    \n",
    "    for i in range(5):\n",
    "        print(\"halo\")"
   ]
  },
  {
   "cell_type": "code",
   "execution_count": 48,
   "metadata": {},
   "outputs": [
    {
     "name": "stdout",
     "output_type": "stream",
     "text": [
      "halo\n",
      "halo\n",
      "halo\n",
      "halo\n",
      "halo\n"
     ]
    }
   ],
   "source": [
    "print_halo()"
   ]
  },
  {
   "cell_type": "markdown",
   "metadata": {},
   "source": []
  }
 ],
 "metadata": {
  "kernelspec": {
   "display_name": "Python 3",
   "language": "python",
   "name": "python3"
  },
  "language_info": {
   "codemirror_mode": {
    "name": "ipython",
    "version": 3
   },
   "file_extension": ".py",
   "mimetype": "text/x-python",
   "name": "python",
   "nbconvert_exporter": "python",
   "pygments_lexer": "ipython3",
   "version": "3.8.8"
  }
 },
 "nbformat": 4,
 "nbformat_minor": 2
}
